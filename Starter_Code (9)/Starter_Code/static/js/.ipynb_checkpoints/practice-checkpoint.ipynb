{
 "cells": [
  {
   "cell_type": "code",
   "execution_count": null,
   "id": "bae0e695-6616-484b-984a-9019cef2f15a",
   "metadata": {},
   "outputs": [],
   "source": [
    "// Create a legend\n",
    "let legend = L.control({ position: \"bottomright\" });\n",
    "\n",
    "legend.onAdd = function() {\n",
    "    let div = L.DomUtil.create(\"div\", \"info legend\");\n",
    "    let grades = [0, 10, 30, 50, 70, 90]; // Define your depth ranges\n",
    "    let colors = ['#00FF00', '#FFFF00', '#FFA500', '#FF4500', '#FF0000']; // Define corresponding colors\n",
    "\n",
    "    // Loop through depth ranges and generate legend content\n",
    "    for (let i = 0; i < grades.length; i++) {\n",
    "        div.innerHTML +=\n",
    "            '<i style=\"background:' + colors[i] + '\"></i> ' +\n",
    "            grades[i] + (grades[i + 1] ? '&ndash;' + grades[i + 1] + '<br>' : '+');\n",
    "    }\n",
    "\n",
    "    return div;\n",
    "};\n",
    "\n",
    "// Add the legend to the map\n",
    "legend.addTo(myMap);\n",
    "\n",
    "// Function to update the legend content\n",
    "function updateLegend() {\n",
    "    // You can update the legend content dynamically here if needed\n",
    "}\n",
    "\n",
    "// Call updateLegend whenever you need to update the legend content\n",
    "updateLegend();"
   ]
  }
 ],
 "metadata": {
  "kernelspec": {
   "display_name": "Python 3 (ipykernel)",
   "language": "python",
   "name": "python3"
  },
  "language_info": {
   "codemirror_mode": {
    "name": "ipython",
    "version": 3
   },
   "file_extension": ".py",
   "mimetype": "text/x-python",
   "name": "python",
   "nbconvert_exporter": "python",
   "pygments_lexer": "ipython3",
   "version": "3.11.7"
  }
 },
 "nbformat": 4,
 "nbformat_minor": 5
}
