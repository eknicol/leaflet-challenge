// Create a legend
let legend = L.control({ position: "bottomright" });

legend.onAdd = function() {
    let div = L.DomUtil.create("div", "info legend");
    let grades = [0, 10, 30, 50, 70, 90]; // Define your depth ranges
    let colors = ['#00FF00', '#FFFF00', '#FFA500', '#FF4500', '#FF0000']; // Define corresponding colors

    // Loop through depth ranges and generate legend content
    for (let i = 0; i < grades.length; i++) {
        div.innerHTML +=
            '<i style="background:' + colors[i] + '"></i> ' +
            grades[i] + (grades[i + 1] ? '&ndash;' + grades[i + 1] + '<br>' : '+');
    }

    return div;
};

// Add the legend to the map
legend.addTo(myMap);

// Function to update the legend content
function updateLegend() {
    // You can update the legend content dynamically here if needed
}

// Call updateLegend whenever you need to update the legend content
updateLegend();
